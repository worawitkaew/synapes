{
 "cells": [
  {
   "cell_type": "markdown",
   "id": "e5ab8eb2",
   "metadata": {},
   "source": [
    "# โจทย์ต่อจากที่คุยกับหมอให้ทำระบบการพิสูจน์ว่าข้อความที่ว่า \"คนไทยมีรายได้เฉลี่ย 15000 บาท\" นั้นเป็นจริงและสมเหตุสมผลตามหลักทางคณิตศาสตร์และสถิติหรือไม่อย่างไร โดยให้ทำด้วย jupyter notebook พร้อมทั้ง upload ขึ้น github จากนั้นทางพี่จะนัด present อธิบายครับ ระยะเวลา 1 สัปดาห์ (เริ่ม 22-7-2021)"
   ]
  },
  {
   "cell_type": "code",
   "execution_count": 1,
   "id": "c0bbf46b",
   "metadata": {},
   "outputs": [],
   "source": [
    "# Normal Distribution\n",
    "nd_data = [10000,12000,15000,15000,15000,18000,20000]\n",
    "# Skewness to the Right\n",
    "sr_data = [5000,5000,5000,10000,12000,13000,55000]\n",
    "# Skewness to the Left\n",
    "sl_data = [4000,12000,13000,16000,20000,20000,20000]"
   ]
  },
  {
   "cell_type": "code",
   "execution_count": 2,
   "id": "577db45f",
   "metadata": {},
   "outputs": [],
   "source": [
    "import statistics"
   ]
  },
  {
   "cell_type": "code",
   "execution_count": 3,
   "id": "73fcbdaf",
   "metadata": {},
   "outputs": [
    {
     "name": "stdout",
     "output_type": "stream",
     "text": [
      "Normal Distribution\n",
      "Mean :  15000\n",
      "Mode :  15000\n",
      "Median :  15000\n"
     ]
    }
   ],
   "source": [
    "mode_nd = statistics.mode(nd_data)\n",
    "mean_nd = statistics.mean(nd_data)\n",
    "median_nd = statistics.median(nd_data)\n",
    "\n",
    "print(\"Normal Distribution\")\n",
    "print(\"Mean : \",mean_nd)\n",
    "print(\"Mode : \",mode_nd)\n",
    "print(\"Median : \",median_nd)"
   ]
  },
  {
   "cell_type": "code",
   "execution_count": 4,
   "id": "4e7166d0",
   "metadata": {},
   "outputs": [
    {
     "name": "stdout",
     "output_type": "stream",
     "text": [
      "Skewness to the Right\n",
      "Mean :  15000\n",
      "Mode :  5000\n",
      "Median :  10000\n"
     ]
    }
   ],
   "source": [
    "mode_sr = statistics.mode(sr_data)\n",
    "mean_sr = statistics.mean(sr_data)\n",
    "median_sr = statistics.median(sr_data)\n",
    "\n",
    "print(\"Skewness to the Right\")\n",
    "print(\"Mean : \",mean_sr)\n",
    "print(\"Mode : \",mode_sr)\n",
    "print(\"Median : \",median_sr)"
   ]
  },
  {
   "cell_type": "code",
   "execution_count": 5,
   "id": "14cdcbc2",
   "metadata": {},
   "outputs": [
    {
     "name": "stdout",
     "output_type": "stream",
     "text": [
      "Skewness to the Left\n",
      "Mean :  15000\n",
      "Mode :  20000\n",
      "Median :  16000\n"
     ]
    }
   ],
   "source": [
    "mode_sl = statistics.mode(sl_data)\n",
    "mean_sl = statistics.mean(sl_data)\n",
    "median_sl = statistics.median(sl_data)\n",
    "\n",
    "print(\"Skewness to the Left\")\n",
    "print(\"Mean : \",mean_sl)\n",
    "print(\"Mode : \",mode_sl)\n",
    "print(\"Median : \",median_sl)"
   ]
  },
  {
   "cell_type": "code",
   "execution_count": 6,
   "id": "c68e0f29",
   "metadata": {},
   "outputs": [
    {
     "name": "stdout",
     "output_type": "stream",
     "text": [
      "nd_skew :  0.0\n",
      "sr_skew :  1.8867204915399578\n",
      "sl_skew :  -0.8607068760795469\n"
     ]
    }
   ],
   "source": [
    "from scipy.stats import skew\n",
    "print(\"nd_skew : \",skew(nd_data))\n",
    "print(\"sr_skew : \",skew(sr_data))\n",
    "print(\"sl_skew : \",skew(sl_data))"
   ]
  },
  {
   "cell_type": "code",
   "execution_count": 7,
   "id": "033e9c77",
   "metadata": {},
   "outputs": [],
   "source": [
    "import numpy as np\n",
    "import matplotlib.pyplot as plt"
   ]
  },
  {
   "cell_type": "code",
   "execution_count": 8,
   "id": "2080d93a",
   "metadata": {},
   "outputs": [],
   "source": [
    "def pdf(x):\n",
    "    mean = np.mean(x)\n",
    "    std = np.std(x)\n",
    "    y_out = 1/(std * np.sqrt(2 * np.pi)) * np.exp( - (x - mean)**2 / (2 * std**2))\n",
    "    return y_out"
   ]
  },
  {
   "cell_type": "code",
   "execution_count": 9,
   "id": "47600888",
   "metadata": {},
   "outputs": [],
   "source": [
    "def norm_dist(data,mean,stdev):\n",
    "    ans = 1/(stdev * np.sqrt(2 * np.pi)) * np.exp( - (data - mean)**2 / (2 * stdev**2))\n",
    "    return ans"
   ]
  },
  {
   "cell_type": "markdown",
   "id": "729b5ae0",
   "metadata": {},
   "source": [
    "สีแดงคือ Mode สีเขียวคือ mean  สีน้ำเงินคือ median"
   ]
  },
  {
   "cell_type": "markdown",
   "id": "5b1eae34",
   "metadata": {},
   "source": [
    "แสดงกราฟ normal distribution"
   ]
  },
  {
   "cell_type": "code",
   "execution_count": 10,
   "id": "d73f82f0",
   "metadata": {},
   "outputs": [
    {
     "data": {
      "image/png": "[encoded data removed]",
      "text/plain": [
       "<Figure size 432x288 with 1 Axes>"
      ]
     },
     "metadata": {
      "needs_background": "light"
     },
     "output_type": "display_data"
    }
   ],
   "source": [
    "y = pdf(nd_data)\n",
    "std_nd = statistics.pstdev(nd_data)\n",
    "mean_y_nd = norm_dist(mean_nd,mean_nd,std_nd)\n",
    "median_y_nd = norm_dist(median_nd,mean_nd,std_nd)\n",
    "mode_y_nd = norm_dist(mode_nd,mean_nd,std_nd)\n",
    "\n",
    "plt.bar(mean_nd,mean_y_nd,ec='g',lw='2')\n",
    "plt.bar(median_nd,median_y_nd,ec='b',lw='2')\n",
    "plt.bar(mode_nd,mode_y_nd,ec='r',lw='2')\n",
    "\n",
    "plt.plot(nd_data, y)\n",
    "plt.scatter(nd_data, y,color = 'red')\n",
    "\n",
    "plt.show()"
   ]
  },
  {
   "cell_type": "markdown",
   "id": "615f1c70",
   "metadata": {},
   "source": [
    "Skewness to the Right"
   ]
  },
  {
   "cell_type": "code",
   "execution_count": 11,
   "id": "736b4cec",
   "metadata": {},
   "outputs": [
    {
     "data": {
      "image/png": "[encoded data removed]",
      "text/plain": [
       "<Figure size 432x288 with 1 Axes>"
      ]
     },
     "metadata": {
      "needs_background": "light"
     },
     "output_type": "display_data"
    }
   ],
   "source": [
    "y = pdf(sr_data)\n",
    "std_sr = statistics.pstdev(sr_data)\n",
    "mean_y_sr = norm_dist(mean_sr,mean_sr,std_sr)\n",
    "median_y_sr = norm_dist(median_sr,mean_sr,std_sr)\n",
    "mode_y_sr = norm_dist(mode_sr,mean_sr,std_sr)\n",
    "\n",
    "plt.bar(mean_sr,mean_y_sr,ec='g',lw='2')  \n",
    "plt.bar(median_sr,median_y_sr,ec='b',lw='2')\n",
    "plt.bar(mode_sr,mode_y_sr,ec='r',lw='2')\n",
    "\n",
    "plt.plot(sr_data, y)\n",
    "  \n",
    "plt.scatter(sr_data, y,color = 'red')\n",
    "  \n",
    "plt.show()"
   ]
  },
  {
   "cell_type": "markdown",
   "id": "cd98ceed",
   "metadata": {},
   "source": [
    "Skewness to the Left"
   ]
  },
  {
   "cell_type": "code",
   "execution_count": 12,
   "id": "b7797cdb",
   "metadata": {},
   "outputs": [
    {
     "data": {
      "image/png": "[encoded data removed]",
      "text/plain": [
       "<Figure size 432x288 with 1 Axes>"
      ]
     },
     "metadata": {
      "needs_background": "light"
     },
     "output_type": "display_data"
    }
   ],
   "source": [
    "y = pdf(sl_data)\n",
    "std_sl = statistics.pstdev(sl_data)\n",
    "mean_y_sl = norm_dist(mean_sl,mean_sl,std_sl)\n",
    "median_y_sl = norm_dist(median_sl,mean_sl,std_sl)\n",
    "mode_y_sl = norm_dist(mode_sl,mean_sl,std_sl)\n",
    "\n",
    "plt.bar(mean_sl,mean_y_sl,ec='g',lw='2')  \n",
    "plt.bar(median_sl,median_y_sl,ec='b',lw='2')\n",
    "plt.bar(mode_sl,mode_y_sl,ec='r',lw='2')\n",
    "\n",
    "plt.plot(sl_data, y)\n",
    "  \n",
    "plt.scatter(sl_data, y,color = 'red')\n",
    "  \n",
    "plt.show()"
   ]
  }
 ],
 "metadata": {
  "kernelspec": {
   "display_name": "Python 3",
   "language": "python",
   "name": "python3"
  },
  "language_info": {
   "codemirror_mode": {
    "name": "ipython",
    "version": 3
   },
   "file_extension": ".py",
   "mimetype": "text/x-python",
   "name": "python",
   "nbconvert_exporter": "python",
   "pygments_lexer": "ipython3",
   "version": "3.8.8"
  }
 },
 "nbformat": 4,
 "nbformat_minor": 5
}
